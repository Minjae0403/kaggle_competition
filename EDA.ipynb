{
 "cells": [
  {
   "cell_type": "markdown",
   "id": "41791cac",
   "metadata": {
    "papermill": {
     "duration": 0.007526,
     "end_time": "2023-08-17T07:01:12.412250",
     "exception": false,
     "start_time": "2023-08-17T07:01:12.404724",
     "status": "completed"
    },
    "tags": []
   },
   "source": [
    "# EDA 목표\n",
    "- Train, Test의 단백질 종류 갯수 확인\n",
    "- 단백질 하나당 go term의 최대, 최소 갯수 \n",
    "- 단백질 간 거리 벡터의 용량 확인 (142246 x )"
   ]
  },
  {
   "cell_type": "code",
   "execution_count": 1,
   "id": "3d35f88d",
   "metadata": {
    "execution": {
     "iopub.execute_input": "2023-08-17T07:01:12.429845Z",
     "iopub.status.busy": "2023-08-17T07:01:12.428942Z",
     "iopub.status.idle": "2023-08-17T07:01:12.594705Z",
     "shell.execute_reply": "2023-08-17T07:01:12.593489Z"
    },
    "papermill": {
     "duration": 0.178461,
     "end_time": "2023-08-17T07:01:12.597842",
     "exception": false,
     "start_time": "2023-08-17T07:01:12.419381",
     "status": "completed"
    },
    "tags": []
   },
   "outputs": [],
   "source": [
    "import pandas as pd\n",
    "import numpy as np\n",
    "from Bio import SeqIO"
   ]
  },
  {
   "cell_type": "markdown",
   "id": "8d4cfee7",
   "metadata": {
    "papermill": {
     "duration": 0.006705,
     "end_time": "2023-08-17T07:01:12.611529",
     "exception": false,
     "start_time": "2023-08-17T07:01:12.604824",
     "status": "completed"
    },
    "tags": []
   },
   "source": [
    "## Train Data"
   ]
  },
  {
   "cell_type": "code",
   "execution_count": 2,
   "id": "1256bb60",
   "metadata": {
    "execution": {
     "iopub.execute_input": "2023-08-17T07:01:12.627215Z",
     "iopub.status.busy": "2023-08-17T07:01:12.626777Z",
     "iopub.status.idle": "2023-08-17T07:01:12.984449Z",
     "shell.execute_reply": "2023-08-17T07:01:12.983226Z"
    },
    "papermill": {
     "duration": 0.36874,
     "end_time": "2023-08-17T07:01:12.987188",
     "exception": false,
     "start_time": "2023-08-17T07:01:12.618448",
     "status": "completed"
    },
    "tags": []
   },
   "outputs": [
    {
     "name": "stdout",
     "output_type": "stream",
     "text": [
      "format-version: 1.2\n",
      "data-version: releases/2023-01-01\n",
      "subsetdef: chebi_ph7_3 \"Rhea list of ChEBI terms representing the major species at pH 7.3.\"\n",
      "subsetdef: gocheck_do_not_annotate \"Term not to be used for direct annotation\"\n",
      "subsetdef: gocheck_do_not_manually_annotate \"Term not to be used for direct manual annotation\"\n",
      "subsetdef: goslim_agr \"AGR slim\"\n",
      "subsetdef: goslim_aspergillus \"Aspergillus GO slim\"\n",
      "subsetdef: goslim_candida \"Candida GO slim\"\n",
      "subsetdef: goslim_chembl \"ChEMBL protein targets summary\"\n",
      "subsetdef: goslim_drosophila \"Drosophila GO slim\"\n",
      "subsetdef: goslim_flybase_ribbon \"FlyBase Drosophila GO ribbon slim\"\n",
      "subsetdef: goslim_generic \"Generic GO slim\"\n",
      "subsetdef: goslim_metagenomics \"Metagenomics GO slim\"\n",
      "subsetdef: goslim_mouse \"Mouse GO slim\"\n",
      "subsetdef: goslim_pir \"PIR GO slim\"\n",
      "subsetdef: goslim_plant \"Plant GO slim\"\n",
      "subsetdef: goslim_pombe \"Fission yeast GO slim\"\n",
      "subsetdef: goslim_synapse \"synapse GO slim\"\n",
      "subsetdef: goslim_yeast \"Yeast GO slim\"\n",
      "subsetdef: prokaryote_subset\n"
     ]
    }
   ],
   "source": [
    "#go-basic.obo\n",
    "\n",
    "obo_file_path = \"/kaggle/input/cafa-5-protein-function-prediction/Train/go-basic.obo\"\n",
    "\n",
    "with open(obo_file_path, \"r\") as obo_file:\n",
    "    obo_content = obo_file.read()\n",
    "\n",
    "# Print the first 1000 characters as an example\n",
    "print(obo_content[:1000])"
   ]
  },
  {
   "cell_type": "code",
   "execution_count": 3,
   "id": "2f16a88d",
   "metadata": {
    "execution": {
     "iopub.execute_input": "2023-08-17T07:01:13.005111Z",
     "iopub.status.busy": "2023-08-17T07:01:13.004371Z",
     "iopub.status.idle": "2023-08-17T07:01:14.493096Z",
     "shell.execute_reply": "2023-08-17T07:01:14.492178Z"
    },
    "papermill": {
     "duration": 1.500928,
     "end_time": "2023-08-17T07:01:14.495770",
     "exception": false,
     "start_time": "2023-08-17T07:01:12.994842",
     "status": "completed"
    },
    "tags": []
   },
   "outputs": [
    {
     "name": "stdout",
     "output_type": "stream",
     "text": [
      ">P20536 sp|P20536|UNG_VACCC Uracil-DNA glycosylase OS=Vaccinia virus (strain Copenhagen) OX=10249 GN=UNG PE=1 SV=1\n",
      "MNSVTVSHAPYTITYHDDWEPVMSQLVEFYNEVASWLLRDETSPIPDKFFIQLKQPLRNK\n",
      "RVCVCGIDPYPKDGTGVPFESPNFTKKSIKEIASSISRLTGVIDYKGYNLNIIDGVIPWN\n",
      "YYLSCKLGETKSHAIYWDKISKLLLQHITKHVSVLYCLGKTDFSNIRAKLESPVTTIVGY\n",
      "HPAARDRQFEKDRSFEIINVLLELDNKVPINWAQGFIY\n",
      ">O73864 sp|O73864|WNT11_DANRE Protein Wnt-11 OS=Danio rerio OX=7955 GN=wnt11 PE=2 SV=1\n",
      "MTEYRNFLLLFITSLSVIYPCTGISWLGLTINGSSVGWNQTHHCKLLDGLVPDQQQLCKR\n",
      "NLELMHSIVRAARLTKSACTSSFSDMRWNWSSIESAPHFTPDLAKGTREAAFVVSLAAAV\n",
      "VSHAIARACASGDLPSCSCAAMPSEQAAPDFRWGGCGDNLRYYGLQMGSAFSDAPMRNRR\n",
      "SGPQDFRLMQLHNNAVGRQVLMDSLEMKCKCHGVSGSCSVKTCWKGLQDISTISADLKSK\n"
     ]
    }
   ],
   "source": [
    "# train_sequence.fast\n",
    "\n",
    "fasta_file_path = \"/kaggle/input/cafa-5-protein-function-prediction/Train/train_sequences.fasta\"\n",
    "\n",
    "with open(fasta_file_path, \"r\") as fasta_file:\n",
    "    lines = fasta_file.readlines()\n",
    "\n",
    "for line in lines[:10]:  \n",
    "    print(line.strip())"
   ]
  },
  {
   "cell_type": "code",
   "execution_count": 4,
   "id": "b7c542c5",
   "metadata": {
    "execution": {
     "iopub.execute_input": "2023-08-17T07:01:14.512574Z",
     "iopub.status.busy": "2023-08-17T07:01:14.512143Z",
     "iopub.status.idle": "2023-08-17T07:01:17.595136Z",
     "shell.execute_reply": "2023-08-17T07:01:17.593828Z"
    },
    "papermill": {
     "duration": 3.09505,
     "end_time": "2023-08-17T07:01:17.598151",
     "exception": false,
     "start_time": "2023-08-17T07:01:14.503101",
     "status": "completed"
    },
    "tags": []
   },
   "outputs": [],
   "source": [
    "# Fasta 파일 중 ID, sequence data 불러오기\n",
    "fasta_file = '/kaggle/input/cafa-5-protein-function-prediction/Train/train_sequences.fasta'\n",
    "\n",
    "sequences = []\n",
    "for record in SeqIO.parse(fasta_file, \"fasta\"):\n",
    "    sequence_id = record.id\n",
    "    sequence_data = record.seq\n",
    "    sequences.append((sequence_id, sequence_data))\n",
    "\n",
    "# sequences[0] : ('P20536', Seq('MNSVTVSHAPYTITYHDDWEPVMSQLVEFYNEVASWLLRDETSPIPDKFFIQLK...FIY'))"
   ]
  },
  {
   "cell_type": "code",
   "execution_count": 5,
   "id": "b6555cca",
   "metadata": {
    "execution": {
     "iopub.execute_input": "2023-08-17T07:01:17.616523Z",
     "iopub.status.busy": "2023-08-17T07:01:17.616037Z",
     "iopub.status.idle": "2023-08-17T07:01:21.830512Z",
     "shell.execute_reply": "2023-08-17T07:01:21.829052Z"
    },
    "papermill": {
     "duration": 4.226146,
     "end_time": "2023-08-17T07:01:21.833205",
     "exception": false,
     "start_time": "2023-08-17T07:01:17.607059",
     "status": "completed"
    },
    "tags": []
   },
   "outputs": [
    {
     "data": {
      "text/html": [
       "<div>\n",
       "<style scoped>\n",
       "    .dataframe tbody tr th:only-of-type {\n",
       "        vertical-align: middle;\n",
       "    }\n",
       "\n",
       "    .dataframe tbody tr th {\n",
       "        vertical-align: top;\n",
       "    }\n",
       "\n",
       "    .dataframe thead th {\n",
       "        text-align: right;\n",
       "    }\n",
       "</style>\n",
       "<table border=\"1\" class=\"dataframe\">\n",
       "  <thead>\n",
       "    <tr style=\"text-align: right;\">\n",
       "      <th></th>\n",
       "      <th>EntryID</th>\n",
       "      <th>term</th>\n",
       "      <th>aspect</th>\n",
       "    </tr>\n",
       "  </thead>\n",
       "  <tbody>\n",
       "    <tr>\n",
       "      <th>0</th>\n",
       "      <td>A0A009IHW8</td>\n",
       "      <td>GO:0008152</td>\n",
       "      <td>BPO</td>\n",
       "    </tr>\n",
       "    <tr>\n",
       "      <th>1</th>\n",
       "      <td>A0A009IHW8</td>\n",
       "      <td>GO:0034655</td>\n",
       "      <td>BPO</td>\n",
       "    </tr>\n",
       "    <tr>\n",
       "      <th>2</th>\n",
       "      <td>A0A009IHW8</td>\n",
       "      <td>GO:0072523</td>\n",
       "      <td>BPO</td>\n",
       "    </tr>\n",
       "    <tr>\n",
       "      <th>3</th>\n",
       "      <td>A0A009IHW8</td>\n",
       "      <td>GO:0044270</td>\n",
       "      <td>BPO</td>\n",
       "    </tr>\n",
       "    <tr>\n",
       "      <th>4</th>\n",
       "      <td>A0A009IHW8</td>\n",
       "      <td>GO:0006753</td>\n",
       "      <td>BPO</td>\n",
       "    </tr>\n",
       "  </tbody>\n",
       "</table>\n",
       "</div>"
      ],
      "text/plain": [
       "      EntryID        term aspect\n",
       "0  A0A009IHW8  GO:0008152    BPO\n",
       "1  A0A009IHW8  GO:0034655    BPO\n",
       "2  A0A009IHW8  GO:0072523    BPO\n",
       "3  A0A009IHW8  GO:0044270    BPO\n",
       "4  A0A009IHW8  GO:0006753    BPO"
      ]
     },
     "execution_count": 5,
     "metadata": {},
     "output_type": "execute_result"
    }
   ],
   "source": [
    "#train_taxonomy.tsv, train_terms.tsv\n",
    "train_taxonomy = pd.read_csv(\"/kaggle/input/cafa-5-protein-function-prediction/Train/train_taxonomy.tsv\", sep= \"\\t\")\n",
    "train_terms = pd.read_csv(\"/kaggle/input/cafa-5-protein-function-prediction/Train/train_terms.tsv\", sep= \"\\t\") \n",
    "train_terms.head()"
   ]
  },
  {
   "cell_type": "code",
   "execution_count": 6,
   "id": "3177ee8e",
   "metadata": {
    "execution": {
     "iopub.execute_input": "2023-08-17T07:01:21.851530Z",
     "iopub.status.busy": "2023-08-17T07:01:21.851081Z",
     "iopub.status.idle": "2023-08-17T07:01:22.916784Z",
     "shell.execute_reply": "2023-08-17T07:01:22.915269Z"
    },
    "papermill": {
     "duration": 1.078752,
     "end_time": "2023-08-17T07:01:22.919925",
     "exception": false,
     "start_time": "2023-08-17T07:01:21.841173",
     "status": "completed"
    },
    "tags": []
   },
   "outputs": [
    {
     "name": "stdout",
     "output_type": "stream",
     "text": [
      "Protein #: (142246,), term #: (31466,)\n"
     ]
    }
   ],
   "source": [
    "# 총 단백질 갯수 및 go term 갯수 확인\n",
    "print(\"Protein #: {}, term #: {}\".format(train_terms['EntryID'].unique().shape, train_terms['term'].unique().shape))"
   ]
  },
  {
   "cell_type": "code",
   "execution_count": 7,
   "id": "7e97fb11",
   "metadata": {
    "execution": {
     "iopub.execute_input": "2023-08-17T07:01:22.937887Z",
     "iopub.status.busy": "2023-08-17T07:01:22.937483Z",
     "iopub.status.idle": "2023-08-17T07:01:30.187935Z",
     "shell.execute_reply": "2023-08-17T07:01:30.186635Z"
    },
    "papermill": {
     "duration": 7.262978,
     "end_time": "2023-08-17T07:01:30.190988",
     "exception": false,
     "start_time": "2023-08-17T07:01:22.928010",
     "status": "completed"
    },
    "tags": []
   },
   "outputs": [
    {
     "name": "stdout",
     "output_type": "stream",
     "text": [
      "value_count min: 2, max: 815\n"
     ]
    }
   ],
   "source": [
    "# 하나의 단백질이 갖는 go term의 갯수 확인\n",
    "train_terms_collected = train_terms.groupby('EntryID')['term'].apply(list).reset_index(name='terms_collected')\n",
    "value_counts = train_terms_collected['terms_collected'].apply(len)\n",
    "\n",
    "'''\n",
    "value_counts = []\n",
    "for i in range(0, len(train_terms_collected)):\n",
    "    counts = len(train_terms_collected.loc[i, 'terms_collected'])\n",
    "    value_counts.append(counts)\n",
    "len(value_counts)\n",
    "'''\n",
    "train_terms_collected['value_counts'] = train_terms_collected['terms_collected'].apply(len)\n",
    "print(\"value_count min: {}, max: {}\".format(train_terms_collected['value_counts'].min(), train_terms_collected['value_counts'].max()))"
   ]
  },
  {
   "cell_type": "code",
   "execution_count": 8,
   "id": "36c4d8e5",
   "metadata": {
    "execution": {
     "iopub.execute_input": "2023-08-17T07:01:30.208328Z",
     "iopub.status.busy": "2023-08-17T07:01:30.207882Z",
     "iopub.status.idle": "2023-08-17T07:01:42.951153Z",
     "shell.execute_reply": "2023-08-17T07:01:42.949881Z"
    },
    "papermill": {
     "duration": 12.755114,
     "end_time": "2023-08-17T07:01:42.953929",
     "exception": false,
     "start_time": "2023-08-17T07:01:30.198815",
     "status": "completed"
    },
    "tags": []
   },
   "outputs": [
    {
     "name": "stdout",
     "output_type": "stream",
     "text": [
      "ems       ids# : 142246, embedding_dim : (142246, 1280)\n",
      "protbert  ids# : 142246, embedding_dim : (142246, 1024)\n"
     ]
    }
   ],
   "source": [
    "# Embedding vector shape 비교\n",
    "\n",
    "ids_train_ems = np.load(\"/kaggle/input/cafa-5-ems-2-embeddings-numpy/train_ids.npy\")\n",
    "embeds_ems_train = np.load(\"/kaggle/input/cafa-5-ems-2-embeddings-numpy/train_embeddings.npy\")\n",
    "print(\"ems       ids# : {}, embedding_dim : {}\".format(len(ids_train_ems), embeds_ems_train.shape))\n",
    "\n",
    "ids_train_protbert = np.load(\"/kaggle/input/protbert-embeddings-for-cafa5/train_ids.npy\")\n",
    "embeds_protbert_train = np.load(\"/kaggle/input/protbert-embeddings-for-cafa5/train_embeddings.npy\")\n",
    "print(\"protbert  ids# : {}, embedding_dim : {}\".format(len(ids_train_protbert), embeds_protbert_train.shape))"
   ]
  },
  {
   "cell_type": "code",
   "execution_count": 9,
   "id": "3c287443",
   "metadata": {
    "execution": {
     "iopub.execute_input": "2023-08-17T07:01:42.972341Z",
     "iopub.status.busy": "2023-08-17T07:01:42.971945Z",
     "iopub.status.idle": "2023-08-17T07:01:42.979246Z",
     "shell.execute_reply": "2023-08-17T07:01:42.978475Z"
    },
    "papermill": {
     "duration": 0.019252,
     "end_time": "2023-08-17T07:01:42.981557",
     "exception": false,
     "start_time": "2023-08-17T07:01:42.962305",
     "status": "completed"
    },
    "tags": []
   },
   "outputs": [
    {
     "name": "stdout",
     "output_type": "stream",
     "text": [
      "Memory consumed by array: 694.56 MB\n"
     ]
    }
   ],
   "source": [
    "# 메모리 확인 \n",
    "import numpy as np\n",
    "\n",
    "# Create a numpy array\n",
    "data = embeds_ems_train\n",
    "\n",
    "# Calculate the memory capacity consumed by the array\n",
    "memory_consumed_bytes = data.nbytes\n",
    "\n",
    "# Convert bytes to more human-readable format\n",
    "def format_bytes(size):\n",
    "    for unit in ['B', 'KB', 'MB', 'GB', 'TB']:\n",
    "        if size < 1024.0:\n",
    "            return f\"{size:.2f} {unit}\"\n",
    "        size /= 1024.0\n",
    "    return f\"{size:.2f} PB\"\n",
    "\n",
    "memory_consumed_human_readable = format_bytes(memory_consumed_bytes)\n",
    "\n",
    "print(\"Memory consumed by array:\", memory_consumed_human_readable)\n"
   ]
  },
  {
   "cell_type": "markdown",
   "id": "d9abac02",
   "metadata": {
    "papermill": {
     "duration": 0.007959,
     "end_time": "2023-08-17T07:01:42.997339",
     "exception": false,
     "start_time": "2023-08-17T07:01:42.989380",
     "status": "completed"
    },
    "tags": []
   },
   "source": [
    "## Test Data"
   ]
  },
  {
   "cell_type": "code",
   "execution_count": 10,
   "id": "c92f6447",
   "metadata": {
    "execution": {
     "iopub.execute_input": "2023-08-17T07:01:43.015870Z",
     "iopub.status.busy": "2023-08-17T07:01:43.015008Z",
     "iopub.status.idle": "2023-08-17T07:01:43.034399Z",
     "shell.execute_reply": "2023-08-17T07:01:43.033419Z"
    },
    "papermill": {
     "duration": 0.031359,
     "end_time": "2023-08-17T07:01:43.036954",
     "exception": false,
     "start_time": "2023-08-17T07:01:43.005595",
     "status": "completed"
    },
    "tags": []
   },
   "outputs": [],
   "source": [
    "# testsuperset-taxon-list.tsv\n",
    "test_taxonomy = pd.read_csv(\"/kaggle/input/cafa-5-protein-function-prediction/Test (Targets)/testsuperset-taxon-list.tsv\", sep=\"\\t\", encoding=\"ISO-8859-1\")"
   ]
  },
  {
   "cell_type": "code",
   "execution_count": 11,
   "id": "cb5d9097",
   "metadata": {
    "execution": {
     "iopub.execute_input": "2023-08-17T07:01:43.054715Z",
     "iopub.status.busy": "2023-08-17T07:01:43.054278Z",
     "iopub.status.idle": "2023-08-17T07:01:44.127089Z",
     "shell.execute_reply": "2023-08-17T07:01:44.125422Z"
    },
    "papermill": {
     "duration": 1.085748,
     "end_time": "2023-08-17T07:01:44.130633",
     "exception": false,
     "start_time": "2023-08-17T07:01:43.044885",
     "status": "completed"
    },
    "tags": []
   },
   "outputs": [
    {
     "name": "stdout",
     "output_type": "stream",
     "text": [
      ">Q9CQV8\t10090\n",
      "MTMDKSELVQKAKLAEQAERYDDMAAAMKAVTEQGHELSNEERNLLSVAYKNVVGARRSS\n",
      "WRVISSIEQKTERNEKKQQMGKEYREKIEAELQDICNDVLELLDKYLILNATQAESKVFY\n",
      "LKMKGDYFRYLSEVASGENKQTTVSNSQQAYQEAFEISKKEMQPTHPIRLGLALNFSVFY\n",
      "YEILNSPEKACSLAKTAFDEAIAELDTLNEESYKDSTLIMQLLRDNLTLWTSENQGDEGD\n",
      "AGEGEN\n",
      ">P62259\t10090\n",
      "MDDREDLVYQAKLAEQAERYDEMVESMKKVAGMDVELTVEERNLLSVAYKNVIGARRASW\n",
      "RIISSIEQKEENKGGEDKLKMIREYRQMVETELKLICCDILDVLDKHLIPAANTGESKVF\n",
      "YYKMKGDYHRYLAEFATGNDRKEAAENSLVAYKAASDIAMTELPPTHPIRLGLALNFSVF\n"
     ]
    }
   ],
   "source": [
    "# testsuperset.fasta\n",
    "fasta_file_path = \"/kaggle/input/cafa-5-protein-function-prediction/Test (Targets)/testsuperset.fasta\"\n",
    "\n",
    "with open(fasta_file_path, \"r\") as fasta_file:\n",
    "    lines = fasta_file.readlines()\n",
    "\n",
    "for line in lines[:10]:\n",
    "    print(line.strip())"
   ]
  },
  {
   "cell_type": "code",
   "execution_count": 12,
   "id": "8a7fe01b",
   "metadata": {
    "execution": {
     "iopub.execute_input": "2023-08-17T07:01:44.149825Z",
     "iopub.status.busy": "2023-08-17T07:01:44.149354Z",
     "iopub.status.idle": "2023-08-17T07:01:47.065899Z",
     "shell.execute_reply": "2023-08-17T07:01:47.064673Z"
    },
    "papermill": {
     "duration": 2.929209,
     "end_time": "2023-08-17T07:01:47.068282",
     "exception": false,
     "start_time": "2023-08-17T07:01:44.139073",
     "status": "completed"
    },
    "tags": []
   },
   "outputs": [
    {
     "data": {
      "text/plain": [
       "'\\nlen(sequences) 141865 인데, dictionary form으로 전환하면  141864가 나옴. \\n중복 데이터가 있다고 판단하여 아래 코드를 수행해봄\\n* 중복 데이터는 다른 사람이 만들어 놓은 embedding vector 갯수가 141854라 알게되었음.\\n'"
      ]
     },
     "execution_count": 12,
     "metadata": {},
     "output_type": "execute_result"
    }
   ],
   "source": [
    "# Fasta 파일 중 ID, sequence data 불러오기\n",
    "fasta_file = '/kaggle/input/cafa-5-protein-function-prediction/Test (Targets)/testsuperset.fasta'\n",
    "\n",
    "sequences = []\n",
    "for record in SeqIO.parse(fasta_file, \"fasta\"):\n",
    "    sequence_id = record.id\n",
    "    sequence_data = record.seq\n",
    "    sequences.append((sequence_id, sequence_data))\n",
    "\n",
    "# sequences[0] : ('P20536', Seq('MNSVTVSHAPYTITYHDDWEPVMSQLVEFYNEVASWLLRDETSPIPDKFFIQLK...FIY'))\n",
    "\n",
    "'''\n",
    "len(sequences) 141865 인데, dictionary form으로 전환하면  141864가 나옴. \n",
    "중복 데이터가 있다고 판단하여 아래 코드를 수행해봄\n",
    "* 중복 데이터는 다른 사람이 만들어 놓은 embedding vector 갯수가 141854라 알게되었음.\n",
    "'''"
   ]
  },
  {
   "cell_type": "code",
   "execution_count": 13,
   "id": "ba7722b2",
   "metadata": {
    "execution": {
     "iopub.execute_input": "2023-08-17T07:01:47.086712Z",
     "iopub.status.busy": "2023-08-17T07:01:47.086279Z",
     "iopub.status.idle": "2023-08-17T07:10:58.864717Z",
     "shell.execute_reply": "2023-08-17T07:10:58.863231Z"
    },
    "papermill": {
     "duration": 551.791625,
     "end_time": "2023-08-17T07:10:58.868220",
     "exception": false,
     "start_time": "2023-08-17T07:01:47.076595",
     "status": "completed"
    },
    "tags": []
   },
   "outputs": [
    {
     "name": "stderr",
     "output_type": "stream",
     "text": [
      "100%|██████████| 141865/141865 [09:11<00:00, 257.11it/s]"
     ]
    },
    {
     "name": "stdout",
     "output_type": "stream",
     "text": [
      "[('A0A1D6E0S8', Seq('MPSRSPACRPRGRNRRSAADAVARPLALALILVSTLPRAAHSQDLALPPVQPRG...SFC'))]\n"
     ]
    },
    {
     "name": "stderr",
     "output_type": "stream",
     "text": [
      "\n"
     ]
    }
   ],
   "source": [
    "# 중복 데이터 확인 \n",
    "from tqdm import tqdm\n",
    "\n",
    "x = [] # 처음 등장한 값인지 판별하는 리스트\n",
    "new_a = [] # 중복된 원소만 넣는 리스트\n",
    "\n",
    "for i in tqdm(sequences):\n",
    "    if i not in x: \n",
    "        x.append(i)\n",
    "    else:\n",
    "        if i not in new_a: # 이미 중복 원소로 판정된 경우는 제외\n",
    "            new_a.append(i)\n",
    "\n",
    "print(new_a) # [1, 2] # 2회 이상 등장한 값들만 담긴 리스트\n",
    "# 중복 데이터: [('A0A1D6E0S8', Seq('MPSRSPACRPRGRNRRSAADAVARPLALALILVSTLPRAAHSQDLALPPVQPRG...SFC'))]"
   ]
  },
  {
   "cell_type": "markdown",
   "id": "bb8971d6",
   "metadata": {
    "papermill": {
     "duration": 0.481751,
     "end_time": "2023-08-17T07:10:59.868392",
     "exception": false,
     "start_time": "2023-08-17T07:10:59.386641",
     "status": "completed"
    },
    "tags": []
   },
   "source": [
    "# Go term 예측"
   ]
  },
  {
   "cell_type": "markdown",
   "id": "a6c31ca9",
   "metadata": {
    "papermill": {
     "duration": 0.481097,
     "end_time": "2023-08-17T07:11:00.839895",
     "exception": false,
     "start_time": "2023-08-17T07:11:00.358798",
     "status": "completed"
    },
    "tags": []
   },
   "source": [
    "## Go term 예측 전략\n",
    "- 단백질 sequence vector간 거리가 가까울 수록 비슷한 단백질.\n",
    "- 비슷한 단백질을 하는 역할이 비슷함.\n",
    "- 단백질 간 거리가 가까우면 비슷한 go term을 공유한다."
   ]
  },
  {
   "cell_type": "markdown",
   "id": "645502b6",
   "metadata": {
    "papermill": {
     "duration": 0.4835,
     "end_time": "2023-08-17T07:11:01.888576",
     "exception": false,
     "start_time": "2023-08-17T07:11:01.405076",
     "status": "completed"
    },
    "tags": []
   },
   "source": [
    "## Go term 예측을 위해 필요한 사항 \n",
    "- 효과적 예측을 위해서는 단백질 간의 거리가 까운 샘플이 train data에 존재 해야한다.\n",
    "- 즉, 최대한 다양한 종류의 단백질(벡터간의 거리가 다양한 단백질)이 train data 안에 있어야 한다.\n",
    "- 시간 관계상 다양한 단백질을 샘플링하는 코드를 짜기 어려워 단순히 최대한 많은 데이터를 넣기로 함.\n",
    "- pretest 결과 Train - Test간 모든 거리는 142246 * 141864 tensor로 용량을 많이 차지함."
   ]
  },
  {
   "cell_type": "code",
   "execution_count": 14,
   "id": "97b86c77",
   "metadata": {
    "execution": {
     "iopub.execute_input": "2023-08-17T07:11:02.852162Z",
     "iopub.status.busy": "2023-08-17T07:11:02.851726Z",
     "iopub.status.idle": "2023-08-17T07:11:06.982130Z",
     "shell.execute_reply": "2023-08-17T07:11:06.980617Z"
    },
    "papermill": {
     "duration": 4.611375,
     "end_time": "2023-08-17T07:11:06.984858",
     "exception": false,
     "start_time": "2023-08-17T07:11:02.373483",
     "status": "completed"
    },
    "tags": []
   },
   "outputs": [
    {
     "name": "stdout",
     "output_type": "stream",
     "text": [
      "Memory Consumption of the Tensor: 75.17 GB\n"
     ]
    }
   ],
   "source": [
    "# Train x Test (142246 * 141864) tensor 용량 계산\n",
    "import torch\n",
    "\n",
    "# Define the tensor shape and data type\n",
    "tensor_shape = (142246, 141864)\n",
    "data_type = torch.float32\n",
    "\n",
    "# Create a tensor of the specified shape and data type\n",
    "tensor = torch.empty(tensor_shape, dtype=data_type)\n",
    "\n",
    "# Calculate the memory consumption in bytes\n",
    "memory_bytes = tensor.element_size() * tensor.numel()\n",
    "\n",
    "# Convert bytes to gigabytes\n",
    "memory_gb = memory_bytes / (1024 ** 3)\n",
    "\n",
    "print(\"Memory Consumption of the Tensor: {:.2f} GB\".format(memory_gb))\n",
    "\n",
    "# Memory Consumption of the Tensor: 75.17 GB"
   ]
  },
  {
   "cell_type": "code",
   "execution_count": null,
   "id": "af40ef1b",
   "metadata": {
    "papermill": {
     "duration": 0.482496,
     "end_time": "2023-08-17T07:11:07.952457",
     "exception": false,
     "start_time": "2023-08-17T07:11:07.469961",
     "status": "completed"
    },
    "tags": []
   },
   "outputs": [],
   "source": []
  }
 ],
 "metadata": {
  "kernelspec": {
   "display_name": "Python 3",
   "language": "python",
   "name": "python3"
  },
  "language_info": {
   "codemirror_mode": {
    "name": "ipython",
    "version": 3
   },
   "file_extension": ".py",
   "mimetype": "text/x-python",
   "name": "python",
   "nbconvert_exporter": "python",
   "pygments_lexer": "ipython3",
   "version": "3.10.12"
  },
  "papermill": {
   "default_parameters": {},
   "duration": 610.581177,
   "end_time": "2023-08-17T07:11:10.443069",
   "environment_variables": {},
   "exception": null,
   "input_path": "__notebook__.ipynb",
   "output_path": "__notebook__.ipynb",
   "parameters": {},
   "start_time": "2023-08-17T07:00:59.861892",
   "version": "2.4.0"
  }
 },
 "nbformat": 4,
 "nbformat_minor": 5
}
